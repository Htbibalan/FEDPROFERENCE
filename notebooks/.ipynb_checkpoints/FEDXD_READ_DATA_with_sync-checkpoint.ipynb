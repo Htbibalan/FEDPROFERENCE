{
 "cells": [
  {
   "cell_type": "code",
   "execution_count": 1,
   "id": "d18d8fa6-0c08-483b-a67e-bd2c9ca9fae8",
   "metadata": {},
   "outputs": [],
   "source": [
    "import os\n",
    "import numpy as np\n",
    "import pandas as pd\n",
    "import matplotlib.pyplot as plt\n",
    "import matplotlib.patches as mpatches\n",
    "import seaborn as sns\n",
    "\n",
    "import trompy as tp\n",
    "\n",
    "# the next two lines will expand the printed tables\n",
    "# pd.options.display.max_rows= 40000\n",
    "# pd.options.display.max_columns= 40000"
   ]
  },
  {
   "cell_type": "code",
   "execution_count": 2,
   "id": "37c6269b-e147-47eb-b571-a04cb1620ce0",
   "metadata": {
    "jupyter": {
     "outputs_hidden": true
    },
    "tags": []
   },
   "outputs": [
    {
     "data": {
      "text/html": [
       "<div>\n",
       "<style scoped>\n",
       "    .dataframe tbody tr th:only-of-type {\n",
       "        vertical-align: middle;\n",
       "    }\n",
       "\n",
       "    .dataframe tbody tr th {\n",
       "        vertical-align: top;\n",
       "    }\n",
       "\n",
       "    .dataframe thead th {\n",
       "        text-align: right;\n",
       "    }\n",
       "</style>\n",
       "<table border=\"1\" class=\"dataframe\">\n",
       "  <thead>\n",
       "    <tr style=\"text-align: right;\">\n",
       "      <th></th>\n",
       "      <th>MOUSEID</th>\n",
       "      <th>SEX</th>\n",
       "      <th>BATCH</th>\n",
       "      <th>FEDFILE</th>\n",
       "      <th>CHOICE_SESSION</th>\n",
       "      <th>FED_PELLET</th>\n",
       "      <th>MODE</th>\n",
       "      <th>DIET</th>\n",
       "    </tr>\n",
       "  </thead>\n",
       "  <tbody>\n",
       "    <tr>\n",
       "      <th>0</th>\n",
       "      <td>FEDXDF1</td>\n",
       "      <td>F</td>\n",
       "      <td>1</td>\n",
       "      <td>FED001_032923_02.CSV</td>\n",
       "      <td>0</td>\n",
       "      <td>MIX</td>\n",
       "      <td>FF</td>\n",
       "      <td>PR</td>\n",
       "    </tr>\n",
       "    <tr>\n",
       "      <th>1</th>\n",
       "      <td>FEDXDF1</td>\n",
       "      <td>F</td>\n",
       "      <td>1</td>\n",
       "      <td>FED001_033023_01.CSV</td>\n",
       "      <td>0</td>\n",
       "      <td>MIX</td>\n",
       "      <td>FR</td>\n",
       "      <td>PR</td>\n",
       "    </tr>\n",
       "    <tr>\n",
       "      <th>2</th>\n",
       "      <td>FEDXDF1</td>\n",
       "      <td>F</td>\n",
       "      <td>1</td>\n",
       "      <td>FED001_040923_00.CSV</td>\n",
       "      <td>1</td>\n",
       "      <td>CAS20</td>\n",
       "      <td>FR</td>\n",
       "      <td>PR</td>\n",
       "    </tr>\n",
       "    <tr>\n",
       "      <th>3</th>\n",
       "      <td>FEDXDF1</td>\n",
       "      <td>F</td>\n",
       "      <td>1</td>\n",
       "      <td>FED002_040923_00.CSV</td>\n",
       "      <td>1</td>\n",
       "      <td>CAS5</td>\n",
       "      <td>FR</td>\n",
       "      <td>PR</td>\n",
       "    </tr>\n",
       "    <tr>\n",
       "      <th>4</th>\n",
       "      <td>FEDXDF1</td>\n",
       "      <td>F</td>\n",
       "      <td>1</td>\n",
       "      <td>FED001_041323_00.CSV</td>\n",
       "      <td>2</td>\n",
       "      <td>CAS20</td>\n",
       "      <td>FR</td>\n",
       "      <td>PR</td>\n",
       "    </tr>\n",
       "    <tr>\n",
       "      <th>...</th>\n",
       "      <td>...</td>\n",
       "      <td>...</td>\n",
       "      <td>...</td>\n",
       "      <td>...</td>\n",
       "      <td>...</td>\n",
       "      <td>...</td>\n",
       "      <td>...</td>\n",
       "      <td>...</td>\n",
       "    </tr>\n",
       "    <tr>\n",
       "      <th>400</th>\n",
       "      <td>FEDXDM20</td>\n",
       "      <td>M</td>\n",
       "      <td>4</td>\n",
       "      <td>FED020_041623_00.CSV</td>\n",
       "      <td>2</td>\n",
       "      <td>SUC</td>\n",
       "      <td>FR</td>\n",
       "      <td>NR</td>\n",
       "    </tr>\n",
       "    <tr>\n",
       "      <th>401</th>\n",
       "      <td>FEDXDM20</td>\n",
       "      <td>M</td>\n",
       "      <td>4</td>\n",
       "      <td>FED019_042023_00.CSV</td>\n",
       "      <td>3</td>\n",
       "      <td>CAS5</td>\n",
       "      <td>FR</td>\n",
       "      <td>NR</td>\n",
       "    </tr>\n",
       "    <tr>\n",
       "      <th>402</th>\n",
       "      <td>FEDXDM20</td>\n",
       "      <td>M</td>\n",
       "      <td>4</td>\n",
       "      <td>FED020_042023_00.CSV</td>\n",
       "      <td>3</td>\n",
       "      <td>SUC</td>\n",
       "      <td>FR</td>\n",
       "      <td>NR</td>\n",
       "    </tr>\n",
       "    <tr>\n",
       "      <th>403</th>\n",
       "      <td>FEDXDM20</td>\n",
       "      <td>M</td>\n",
       "      <td>4</td>\n",
       "      <td>FED007_042523_00.CSV</td>\n",
       "      <td>4</td>\n",
       "      <td>CAS5</td>\n",
       "      <td>CE</td>\n",
       "      <td>NR</td>\n",
       "    </tr>\n",
       "    <tr>\n",
       "      <th>404</th>\n",
       "      <td>FEDXDM20</td>\n",
       "      <td>M</td>\n",
       "      <td>4</td>\n",
       "      <td>FED008_042523_00.CSV</td>\n",
       "      <td>4</td>\n",
       "      <td>SUC</td>\n",
       "      <td>CE</td>\n",
       "      <td>NR</td>\n",
       "    </tr>\n",
       "  </tbody>\n",
       "</table>\n",
       "<p>405 rows × 8 columns</p>\n",
       "</div>"
      ],
      "text/plain": [
       "      MOUSEID SEX  BATCH               FEDFILE  CHOICE_SESSION FED_PELLET  \\\n",
       "0     FEDXDF1   F      1  FED001_032923_02.CSV               0        MIX   \n",
       "1     FEDXDF1   F      1  FED001_033023_01.CSV               0        MIX   \n",
       "2     FEDXDF1   F      1  FED001_040923_00.CSV               1      CAS20   \n",
       "3     FEDXDF1   F      1  FED002_040923_00.CSV               1       CAS5   \n",
       "4     FEDXDF1   F      1  FED001_041323_00.CSV               2      CAS20   \n",
       "..        ...  ..    ...                   ...             ...        ...   \n",
       "400  FEDXDM20   M      4  FED020_041623_00.CSV               2        SUC   \n",
       "401  FEDXDM20   M      4  FED019_042023_00.CSV               3       CAS5   \n",
       "402  FEDXDM20   M      4  FED020_042023_00.CSV               3        SUC   \n",
       "403  FEDXDM20   M      4  FED007_042523_00.CSV               4       CAS5   \n",
       "404  FEDXDM20   M      4  FED008_042523_00.CSV               4        SUC   \n",
       "\n",
       "    MODE DIET  \n",
       "0     FF   PR  \n",
       "1     FR   PR  \n",
       "2     FR   PR  \n",
       "3     FR   PR  \n",
       "4     FR   PR  \n",
       "..   ...  ...  \n",
       "400   FR   NR  \n",
       "401   FR   NR  \n",
       "402   FR   NR  \n",
       "403   CE   NR  \n",
       "404   CE   NR  \n",
       "\n",
       "[405 rows x 8 columns]"
      ]
     },
     "execution_count": 2,
     "metadata": {},
     "output_type": "execute_result"
    }
   ],
   "source": [
    "READ_METAFILE= pd.read_excel(r\"..\\FEDXD_METAFILE.xlsx\" ,sheet_name=\"METAFILE\" )\n",
    "len(READ_METAFILE)\n",
    "READ_METAFILE\n"
   ]
  },
  {
   "cell_type": "code",
   "execution_count": 3,
   "id": "4bb483c7",
   "metadata": {},
   "outputs": [],
   "source": [
    "## list of questions to ask with data\n",
    "\n",
    "# Fig 1\n",
    "# is there a difference in pellets taken on FF between PR and NR\n",
    "# is there a difference in learning to poke between PR and NR (active vs inactive) on day 1 of FR (choice session 0)\n",
    "# is there a difference between number of pellets taken in the same session\n",
    "### also consider male vs female in same analyses\n",
    "\n",
    "# Fig 2\n",
    "# In choice session 1 is there a difference between 20% and 5% for PR vs NR\n",
    "\n",
    "\n",
    "# Fig 3\n",
    "# In choice session 2 is there a difference between 20% and sucrose\n",
    "# In choice session 3 is there a difference between 5% and sucrose\n",
    "\n",
    "\n",
    "# Fig 4\n",
    "# In choice session 4 (closed economy) is there a difference between 5% and sucrose in breakpoints between PR and NR\n",
    "\n",
    "# Possible additional\n",
    "# switches between FEDs, average time before going to the other FED\n",
    "# circadian differences\n",
    "\n",
    "\n",
    "\n"
   ]
  },
  {
   "cell_type": "code",
   "execution_count": 4,
   "id": "0a9e1728-ce65-4bcc-8a6d-0f128391ed73",
   "metadata": {},
   "outputs": [],
   "source": [
    "DATA_FOLDER = \"..\\\\data\"\n",
    "\n",
    "\n",
    "def tweak_fed(df):\n",
    "    return (df\n",
    "             .rename(columns={\"MM:DD:YYYY hh:mm:ss\": \"t\",\n",
    "                             \"InterPelletInterval\": \"ipi\"})\n",
    "             .assign(t=lambda df_: pd.to_datetime(df_.t))\n",
    "#              .set_index(\"t\")\n",
    "#              .query(\"Event == 'Pellet'\")\n",
    "             # .loc[\"2022-09-12 08:00:00\":] # cuts off training phase\n",
    "             .loc[:, [\"t\", \"Event\", \"FR\", \"Device_Number\", \"ipi\", \"Poke_Time\"]]\n",
    "           )\n",
    "\n",
    "df = pd.read_csv(os.path.join(DATA_FOLDER, \"FED001_041723_00.CSV\"))\n",
    "df1 = tweak_fed(df)\n",
    "\n",
    "df = pd.read_csv(os.path.join(DATA_FOLDER, \"FED002_041723_00.CSV\"))\n",
    "df2 = tweak_fed(df)"
   ]
  },
  {
   "cell_type": "code",
   "execution_count": 5,
   "id": "2eb58c48",
   "metadata": {},
   "outputs": [
    {
     "name": "stdout",
     "output_type": "stream",
     "text": [
      "                    t   Event  FR  Device_Number  ipi  Poke_Time\n",
      "0 2023-04-17 11:18:10   Right   1              1  NaN      12.78\n",
      "1 2023-04-17 11:19:11    Left   1              1  NaN       0.25\n",
      "2 2023-04-17 11:21:57  Pellet   1              1  NaN        NaN\n",
      "                    t  Event  FR  Device_Number  ipi  Poke_Time\n",
      "0 2023-04-17 11:18:20  Right   1              2  NaN      12.59\n",
      "1 2023-04-17 11:25:38  Right   1              2  NaN       0.00\n",
      "2 2023-04-17 11:26:38   Left   1              2  NaN       0.25\n"
     ]
    }
   ],
   "source": [
    "print(df1.head(3))\n",
    "print(df2.head(3))"
   ]
  },
  {
   "cell_type": "code",
   "execution_count": 6,
   "id": "8aa350c0",
   "metadata": {},
   "outputs": [
    {
     "name": "stdout",
     "output_type": "stream",
     "text": [
      "                    t   Event  FR  Device_Number  ipi  Poke_Time\n",
      "0 2023-04-17 11:18:10   Right   1              1  NaN      12.78\n",
      "1 2023-04-17 11:19:11    Left   1              1  NaN       0.25\n",
      "2 2023-04-17 11:21:57  Pellet   1              1  NaN        NaN\n",
      "                    t  Event  FR  Device_Number  ipi  Poke_Time\n",
      "0 2023-04-17 11:18:10  Right   1              2  NaN      12.59\n",
      "1 2023-04-17 11:25:28  Right   1              2  NaN       0.00\n",
      "2 2023-04-17 11:26:28   Left   1              2  NaN       0.25\n"
     ]
    },
    {
     "data": {
      "text/plain": [
       "10.0"
      ]
     },
     "execution_count": 6,
     "metadata": {},
     "output_type": "execute_result"
    }
   ],
   "source": [
    "def clean_fed(df):\n",
    "    \n",
    "    return (df\n",
    "            .iloc[1:]\n",
    "            .set_index(\"t\")\n",
    "           )\n",
    "\n",
    "def sync_feds(df1, df2):\n",
    "    \n",
    "    offset = df2.query(\"Poke_Time > 10\").t - df1.query(\"Poke_Time > 10\").t\n",
    "    offset = pd.Timedelta(offset.iloc[0])\n",
    "    \n",
    "    \n",
    "    df2 = df2.assign(t=df2.t.sub(offset))\n",
    "#     df1 = clean_fed(df1)\n",
    "#     df2 = clean_fed(df2)\n",
    "    \n",
    "    return df1, df2, offset\n",
    "\n",
    "df1, df2, offset = sync_feds(df1, df2)\n",
    "\n",
    "print(df1.head(3))\n",
    "print(df2.head(3))\n",
    "offset.total_seconds()"
   ]
  },
  {
   "cell_type": "code",
   "execution_count": 7,
   "id": "3cab44e5-45b8-46bc-a9ce-f5eb45dea66a",
   "metadata": {},
   "outputs": [
    {
     "name": "stdout",
     "output_type": "stream",
     "text": [
      "File is excel file. Making csv metafile first\n"
     ]
    }
   ],
   "source": [
    "METAFILE = \"..\\\\FEDXD_METAFILE.xls\"\n",
    "rows, header = tp.metafilereader(METAFILE, sheetname=\"METAFILE_SE\")\n",
    "\n",
    "ff_dict = {}\n",
    "for row in rows:\n",
    "    # file, mouse, diet, mode, sex,order,epoch = row\n",
    "    MOUSEID,SEX,BATCH,FEDFILE,CHOICE_SESSION,FED_PELLET,MODE,DIET = row\n",
    "    if (MODE == \"FF\" or \"FR\" or \"CE\") and (DIET in [\"NR\", \"PR\"] and FED_PELLET in [\"MIX\",\"CAS5\",\"CAS20\",\"SUC\"] and CHOICE_SESSION in[\"ZERO\",\"ONE\",\"TWO\",\"THREE\",\"FOUR\"] ):\n",
    "        key = \"_\".join([MOUSEID,DIET,FED_PELLET,MODE,CHOICE_SESSION])\n",
    "        ff_dict[key] = {}\n",
    "        ff_dict[key][\"MOUSEID\"] = MOUSEID\n",
    "        ff_dict[key][\"DIET\"] = DIET\n",
    "        ff_dict[key][\"SEX\"] = SEX\n",
    "        ff_dict[key][\"MODE\"] = MODE\n",
    "        ff_dict[key][\"CHOICE_SESSION\"] = CHOICE_SESSION\n",
    "        ff_dict[key][\"BATCH\"] = int(BATCH)\n",
    "        ff_dict[key][\"FED_PELLET\"] = FED_PELLET\n",
    "        ff_dict[key][\"events\"] = tweak_fed(pd.read_csv(os.path.join(DATA_FOLDER, FEDFILE)))"
   ]
  },
  {
   "cell_type": "code",
   "execution_count": 8,
   "id": "4ddb65ef-6a24-4173-ac35-d7b6ad193e6a",
   "metadata": {},
   "outputs": [
    {
     "name": "stdout",
     "output_type": "stream",
     "text": [
      "Cannot sync for keys ['FEDXDF12_NR_CAS20_FR_ONE', 'FEDXDF12_NR_CAS5_FR_ONE']\n",
      "Cannot sync for keys ['FEDXDF20_NR_CAS20_FR_TWO', 'FEDXDF20_NR_SUC_FR_TWO']\n",
      "[['FEDXDF12_NR_CAS20_FR_ONE', 'FEDXDF12_NR_CAS5_FR_ONE'], ['FEDXDF20_NR_CAS20_FR_TWO', 'FEDXDF20_NR_SUC_FR_TWO']]\n",
      "[-3.0, -5.0, -6.0, -8.0, -9.0, -12.0, -15.0, -17.0, 0, -5.0, -6.0, -8.0, -10.0, -13.0, -16.0, -18.0, 10.0, 11.0, 10.0, 9.0, -18.0, -23.0, -28.0, -33.0, 2.0, 2.0, 2.0, 4.0, -16.0, -21.0, -25.0, -30.0, -4.0, -6.0, -7.0, -9.0, -10.0, -13.0, -16.0, -18.0, 12.0, 18.0, 23.0, 27.0, 5.0, 5.0, 6.0, 7.0, 0, 0, 26.0, 30.0, 19.0, 25.0, 30.0, 36.0, -8.0, -11.0, -14.0, -17.0, 5.0, 6.0, 7.0, 8.0, 11.0, 10.0, 9.0, 9.0, 9.0, 10.0, 12.0, 39.0, 4.0, 5.0, 6.0, 8.0, 2.0, 3.0, 3.0, 3.0, -19.0, 9.0, -29.0, 14.0, 18.0, 24.0, 28.0, 7.0, 12.0, 8.0, 20.0, 26.0, 32.0, 38.0, 15.0, 20.0, 25.0, 29.0, 0, 5.0, 5.0, 7.0, 17.0, 23.0, 28.0, 34.0, 0, 3.0, 3.0, 4.0, 0, 5.0, 7.0, 7.0, 9.0, 10.0, 0, 8.0, 4.0, 5.0, 7.0, 8.0, -4.0, -5.0, -7.0, -8.0, 11.0, 10.0, 10.0, 9.0, -17.0, -21.0, -27.0, -31.0, 4.0, 5.0, 5.0, 7.0, 2.0, 2.0, 3.0, 4.0, 0, 21.0, 27.0, 33.0, 10.0, 10.0, 9.0, 9.0, 4.0, 5.0, 6.0, 8.0, 7.0, 10.0, 12.0, 14.0]\n"
     ]
    }
   ],
   "source": [
    "### This cell goes through all the extracted events and synchronizes the two FEDs together\n",
    "\n",
    "mice = []\n",
    "for key in ff_dict.keys():\n",
    "    mice.append(key.split(\"_\")[0])\n",
    "    \n",
    "mice = set(mice)\n",
    "\n",
    "offsets = []\n",
    "failed_keys =[]\n",
    "for mouse in mice:\n",
    "    for session in [\"ONE\",\"TWO\",\"THREE\",\"FOUR\"]:\n",
    "        dfs, keys = [], []\n",
    "        for key, val in ff_dict.items():\n",
    "            if (val[\"MOUSEID\"] == mouse) and (val[\"CHOICE_SESSION\"] == session):\n",
    "                keys.append(key)\n",
    "                dfs.append(val[\"events\"])\n",
    "        try:\n",
    "            df1, df2, offset = sync_feds(dfs[0], dfs[1])\n",
    "            ff_dict[keys[0]][\"events\"] = df1\n",
    "            ff_dict[keys[1]][\"events\"] = df2\n",
    "            offsets.append(offset.total_seconds())\n",
    "        except IndexError:\n",
    "            print(\"Cannot sync for keys {}\".format(keys))\n",
    "            failed_keys.append(keys)\n",
    "\n",
    "offsets = [0 if np.isnan(i) else i for i in offsets]\n",
    "print(failed_keys)\n",
    "print(offsets)\n",
    "        "
   ]
  },
  {
   "cell_type": "code",
   "execution_count": 9,
   "id": "538eb5d6",
   "metadata": {},
   "outputs": [
    {
     "data": {
      "text/plain": [
       "<Axes: ylabel='Density'>"
      ]
     },
     "execution_count": 9,
     "metadata": {},
     "output_type": "execute_result"
    },
    {
     "data": {
      "image/png": "[encoded data removed]",
      "text/plain": [
       "<Figure size 640x480 with 1 Axes>"
      ]
     },
     "metadata": {},
     "output_type": "display_data"
    }
   ],
   "source": [
    "# shows that FEDs are normally only out of sync by 40 seconds or less\n",
    "# need to inspect nans to work out what is happening there\n",
    "\n",
    "sns.kdeplot(offsets)"
   ]
  },
  {
   "cell_type": "code",
   "execution_count": 10,
   "id": "775a5789",
   "metadata": {},
   "outputs": [],
   "source": [
    "# get total pellets of each kind\n",
    "\n",
    "def selector(data, mouse, session, pellet_types):\n",
    "    \n",
    "    selected_dicts = []\n",
    "    \n",
    "    for key, val in data.items():\n",
    "        if (val[\"MOUSEID\"] == mouse) and (val[\"CHOICE_SESSION\"] == session):\n",
    "            selected_dicts.append(val)\n",
    "            \n",
    "    if len(selected_dicts) != 2:\n",
    "        print(\"Incorrect number of fed sessions returned for {}_{} (should be exactly two)\".format(mouse, session))\n",
    "        return\n",
    "    \n",
    "    if pellet_types[0] in selected_dicts[0][\"FED_PELLET\"]:\n",
    "        fed1 = selected_dicts[0]\n",
    "    elif pellet_types[0] in selected_dicts[1][\"FED_PELLET\"]:\n",
    "        fed1 = selected_dicts[1]\n",
    "    else:\n",
    "        print(f\"{pellet_types[0]} is not in the selected dictionaries\")\n",
    "        return\n",
    "    \n",
    "    if pellet_types[1] in selected_dicts[0][\"FED_PELLET\"]:\n",
    "        fed2 = selected_dicts[0]\n",
    "    elif pellet_types[1] in selected_dicts[1][\"FED_PELLET\"]:\n",
    "        fed2 = selected_dicts[1]\n",
    "    else:\n",
    "        print(f\"{pellet_types[1]} is not in the selected dictionaries\")\n",
    "        return\n",
    "\n",
    "    return fed1, fed2\n",
    "    \n",
    "cas5, suc = selector(ff_dict, \"FEDXDF8\", \"FOUR\", [\"CAS5\", \"SUC\"])\n",
    "     "
   ]
  },
  {
   "cell_type": "code",
   "execution_count": 11,
   "id": "320b1f84",
   "metadata": {},
   "outputs": [
    {
     "data": {
      "text/plain": [
       "41"
      ]
     },
     "execution_count": 11,
     "metadata": {},
     "output_type": "execute_result"
    }
   ],
   "source": [
    "df = suc[\"events\"]\n",
    "len(df.query(\"Event == 'Pellet'\"))"
   ]
  },
  {
   "cell_type": "code",
   "execution_count": 12,
   "id": "b516149a",
   "metadata": {},
   "outputs": [
    {
     "data": {
      "text/html": [
       "<div>\n",
       "<style scoped>\n",
       "    .dataframe tbody tr th:only-of-type {\n",
       "        vertical-align: middle;\n",
       "    }\n",
       "\n",
       "    .dataframe tbody tr th {\n",
       "        vertical-align: top;\n",
       "    }\n",
       "\n",
       "    .dataframe thead th {\n",
       "        text-align: right;\n",
       "    }\n",
       "</style>\n",
       "<table border=\"1\" class=\"dataframe\">\n",
       "  <thead>\n",
       "    <tr style=\"text-align: right;\">\n",
       "      <th></th>\n",
       "      <th>t</th>\n",
       "      <th>Event</th>\n",
       "      <th>FR</th>\n",
       "      <th>Device_Number</th>\n",
       "      <th>ipi</th>\n",
       "      <th>Poke_Time</th>\n",
       "    </tr>\n",
       "  </thead>\n",
       "  <tbody>\n",
       "    <tr>\n",
       "      <th>0</th>\n",
       "      <td>2023-04-22 11:17:32</td>\n",
       "      <td>Right</td>\n",
       "      <td>1</td>\n",
       "      <td>6</td>\n",
       "      <td>NaN</td>\n",
       "      <td>17.38</td>\n",
       "    </tr>\n",
       "    <tr>\n",
       "      <th>1</th>\n",
       "      <td>2023-04-22 11:22:38</td>\n",
       "      <td>Left</td>\n",
       "      <td>1</td>\n",
       "      <td>6</td>\n",
       "      <td>NaN</td>\n",
       "      <td>0.11</td>\n",
       "    </tr>\n",
       "    <tr>\n",
       "      <th>2</th>\n",
       "      <td>2023-04-22 11:22:45</td>\n",
       "      <td>Pellet</td>\n",
       "      <td>1</td>\n",
       "      <td>6</td>\n",
       "      <td>NaN</td>\n",
       "      <td>NaN</td>\n",
       "    </tr>\n",
       "    <tr>\n",
       "      <th>3</th>\n",
       "      <td>2023-04-22 11:22:57</td>\n",
       "      <td>Right</td>\n",
       "      <td>3</td>\n",
       "      <td>6</td>\n",
       "      <td>NaN</td>\n",
       "      <td>0.21</td>\n",
       "    </tr>\n",
       "    <tr>\n",
       "      <th>4</th>\n",
       "      <td>2023-04-22 11:37:46</td>\n",
       "      <td>Right</td>\n",
       "      <td>3</td>\n",
       "      <td>6</td>\n",
       "      <td>NaN</td>\n",
       "      <td>0.03</td>\n",
       "    </tr>\n",
       "    <tr>\n",
       "      <th>...</th>\n",
       "      <td>...</td>\n",
       "      <td>...</td>\n",
       "      <td>...</td>\n",
       "      <td>...</td>\n",
       "      <td>...</td>\n",
       "      <td>...</td>\n",
       "    </tr>\n",
       "    <tr>\n",
       "      <th>1250</th>\n",
       "      <td>2023-04-23 09:43:02</td>\n",
       "      <td>Left</td>\n",
       "      <td>67</td>\n",
       "      <td>6</td>\n",
       "      <td>NaN</td>\n",
       "      <td>0.12</td>\n",
       "    </tr>\n",
       "    <tr>\n",
       "      <th>1251</th>\n",
       "      <td>2023-04-23 10:04:20</td>\n",
       "      <td>Left</td>\n",
       "      <td>67</td>\n",
       "      <td>6</td>\n",
       "      <td>NaN</td>\n",
       "      <td>0.03</td>\n",
       "    </tr>\n",
       "    <tr>\n",
       "      <th>1252</th>\n",
       "      <td>2023-04-23 10:04:21</td>\n",
       "      <td>Left</td>\n",
       "      <td>67</td>\n",
       "      <td>6</td>\n",
       "      <td>NaN</td>\n",
       "      <td>0.11</td>\n",
       "    </tr>\n",
       "    <tr>\n",
       "      <th>1253</th>\n",
       "      <td>2023-04-23 10:10:38</td>\n",
       "      <td>Left</td>\n",
       "      <td>67</td>\n",
       "      <td>6</td>\n",
       "      <td>NaN</td>\n",
       "      <td>0.44</td>\n",
       "    </tr>\n",
       "    <tr>\n",
       "      <th>1254</th>\n",
       "      <td>2023-04-23 10:10:40</td>\n",
       "      <td>Left</td>\n",
       "      <td>67</td>\n",
       "      <td>6</td>\n",
       "      <td>NaN</td>\n",
       "      <td>0.34</td>\n",
       "    </tr>\n",
       "  </tbody>\n",
       "</table>\n",
       "<p>1255 rows × 6 columns</p>\n",
       "</div>"
      ],
      "text/plain": [
       "                       t   Event  FR  Device_Number  ipi  Poke_Time\n",
       "0    2023-04-22 11:17:32   Right   1              6  NaN      17.38\n",
       "1    2023-04-22 11:22:38    Left   1              6  NaN       0.11\n",
       "2    2023-04-22 11:22:45  Pellet   1              6  NaN        NaN\n",
       "3    2023-04-22 11:22:57   Right   3              6  NaN       0.21\n",
       "4    2023-04-22 11:37:46   Right   3              6  NaN       0.03\n",
       "...                  ...     ...  ..            ...  ...        ...\n",
       "1250 2023-04-23 09:43:02    Left  67              6  NaN       0.12\n",
       "1251 2023-04-23 10:04:20    Left  67              6  NaN       0.03\n",
       "1252 2023-04-23 10:04:21    Left  67              6  NaN       0.11\n",
       "1253 2023-04-23 10:10:38    Left  67              6  NaN       0.44\n",
       "1254 2023-04-23 10:10:40    Left  67              6  NaN       0.34\n",
       "\n",
       "[1255 rows x 6 columns]"
      ]
     },
     "execution_count": 12,
     "metadata": {},
     "output_type": "execute_result"
    }
   ],
   "source": [
    "df"
   ]
  },
  {
   "cell_type": "code",
   "execution_count": null,
   "id": "ef15d8ea",
   "metadata": {},
   "outputs": [],
   "source": [
    "def get_data(entry):\n",
    "    \n",
    "    df = pd.DataFrame()\n",
    "    \n",
    "    return (df.\n",
    "            assign(total_pellets=len(entry[\"events\"].query(\"Event == 'Pellet'\")))\n",
    "           )\n",
    "\n",
    "def assemble_dataframe(data):\n",
    "    \n",
    "    collection_of_dfs = []\n",
    "    \n",
    "    for key, val in data.items():\n",
    "        collection_of_dfs.append(get_data(val))\n",
    "        \n",
    "    return pd.concat(collection_of_dfs)\n",
    "        \n"
   ]
  },
  {
   "cell_type": "code",
   "execution_count": 13,
   "id": "ab9832d3",
   "metadata": {},
   "outputs": [
    {
     "data": {
      "text/plain": [
       "42.549003984063745"
      ]
     },
     "execution_count": 13,
     "metadata": {},
     "output_type": "execute_result"
    }
   ],
   "source": [
    "def calc_max_breakpoint(df):\n",
    "\n",
    "    return df.FR.max()\n",
    "\n",
    "def calc_mean_breakpoint(df):\n",
    "    \n",
    "    return df.FR.mean()\n",
    "\n",
    "def calc_median_breakpoint(df):\n",
    "    \n",
    "    return df.FR.median()\n",
    "    \n",
    "calc_mean_breakpoint(suc[\"events\"])"
   ]
  },
  {
   "cell_type": "code",
   "execution_count": 22,
   "id": "2d7c039a",
   "metadata": {},
   "outputs": [
    {
     "data": {
      "text/plain": [
       "40"
      ]
     },
     "execution_count": 22,
     "metadata": {},
     "output_type": "execute_result"
    }
   ],
   "source": [
    "def calc_total_pellets(df):\n",
    "    return len(df.query(\"Event == 'Pellet'\"))\n",
    "    \n",
    "    \n",
    "def calc_max_breakpoint(df):\n",
    "    return\n",
    "    \n",
    "    \n",
    "total_pellets_NR_suc, total_pellets_NR_cas5, total_pellets_PR_suc, total_pellets_PR_cas5 = [], [], [], []\n",
    "\n",
    "mouse_diets = {}\n",
    "for mouse in mice:\n",
    "    for key, val in ff_dict.items():\n",
    "        if mouse not in mouse_diets.keys():         \n",
    "            if mouse in key:\n",
    "                mouse_diets[mouse] = val[\"DIET\"]\n",
    "\n",
    "for idx, mouse in enumerate(mice):\n",
    "    cas5, suc = selector(ff_dict, mouse, \"FOUR\", [\"CAS5\", \"SUC\"])\n",
    "    \n",
    "    if mouse_diets[mouse] == \"NR\":\n",
    "        total_pellets_NR_cas5.append(calc_max_breakpoint(cas5[\"events\"]))\n",
    "        total_pellets_NR_suc.append(calc_max_breakpoint(suc[\"events\"]))\n",
    "    elif mouse_diets[mouse] == \"PR\":\n",
    "        total_pellets_PR_cas5.append(calc_max_breakpoint(cas5[\"events\"]))\n",
    "        total_pellets_PR_suc.append(calc_max_breakpoint(suc[\"events\"]))\n",
    "    else:\n",
    "        print(\"Incorrect diet option\")\n",
    "\n",
    "len(mice)"
   ]
  },
  {
   "cell_type": "code",
   "execution_count": 23,
   "id": "b3f6a77e",
   "metadata": {},
   "outputs": [
    {
     "data": {
      "text/plain": [
       "(20, 2)"
      ]
     },
     "execution_count": 23,
     "metadata": {},
     "output_type": "execute_result"
    }
   ],
   "source": [
    "total_pellets_NR.shape"
   ]
  },
  {
   "cell_type": "code",
   "execution_count": 24,
   "id": "b954b64b",
   "metadata": {},
   "outputs": [
    {
     "ename": "TypeError",
     "evalue": "unsupported operand type(s) for +: 'NoneType' and 'NoneType'",
     "output_type": "error",
     "traceback": [
      "\u001b[1;31m---------------------------------------------------------------------------\u001b[0m",
      "\u001b[1;31mTypeError\u001b[0m                                 Traceback (most recent call last)",
      "Cell \u001b[1;32mIn[24], line 1\u001b[0m\n\u001b[1;32m----> 1\u001b[0m \u001b[43mplt\u001b[49m\u001b[38;5;241;43m.\u001b[39;49m\u001b[43mboxplot\u001b[49m\u001b[43m(\u001b[49m\u001b[43m(\u001b[49m\u001b[43mtotal_pellets_NR_suc\u001b[49m\u001b[43m,\u001b[49m\u001b[43m \u001b[49m\u001b[43mtotal_pellets_NR_cas5\u001b[49m\u001b[43m,\u001b[49m\u001b[43m \u001b[49m\u001b[43mtotal_pellets_PR_suc\u001b[49m\u001b[43m,\u001b[49m\u001b[43m \u001b[49m\u001b[43mtotal_pellets_PR_cas5\u001b[49m\u001b[43m)\u001b[49m\u001b[43m)\u001b[49m;\n",
      "File \u001b[1;32m~\\Miniconda3\\lib\\site-packages\\matplotlib\\pyplot.py:2483\u001b[0m, in \u001b[0;36mboxplot\u001b[1;34m(x, notch, sym, vert, whis, positions, widths, patch_artist, bootstrap, usermedians, conf_intervals, meanline, showmeans, showcaps, showbox, showfliers, boxprops, labels, flierprops, medianprops, meanprops, capprops, whiskerprops, manage_ticks, autorange, zorder, capwidths, data)\u001b[0m\n\u001b[0;32m   2473\u001b[0m \u001b[38;5;129m@_copy_docstring_and_deprecators\u001b[39m(Axes\u001b[38;5;241m.\u001b[39mboxplot)\n\u001b[0;32m   2474\u001b[0m \u001b[38;5;28;01mdef\u001b[39;00m \u001b[38;5;21mboxplot\u001b[39m(\n\u001b[0;32m   2475\u001b[0m         x, notch\u001b[38;5;241m=\u001b[39m\u001b[38;5;28;01mNone\u001b[39;00m, sym\u001b[38;5;241m=\u001b[39m\u001b[38;5;28;01mNone\u001b[39;00m, vert\u001b[38;5;241m=\u001b[39m\u001b[38;5;28;01mNone\u001b[39;00m, whis\u001b[38;5;241m=\u001b[39m\u001b[38;5;28;01mNone\u001b[39;00m,\n\u001b[1;32m   (...)\u001b[0m\n\u001b[0;32m   2481\u001b[0m         whiskerprops\u001b[38;5;241m=\u001b[39m\u001b[38;5;28;01mNone\u001b[39;00m, manage_ticks\u001b[38;5;241m=\u001b[39m\u001b[38;5;28;01mTrue\u001b[39;00m, autorange\u001b[38;5;241m=\u001b[39m\u001b[38;5;28;01mFalse\u001b[39;00m,\n\u001b[0;32m   2482\u001b[0m         zorder\u001b[38;5;241m=\u001b[39m\u001b[38;5;28;01mNone\u001b[39;00m, capwidths\u001b[38;5;241m=\u001b[39m\u001b[38;5;28;01mNone\u001b[39;00m, \u001b[38;5;241m*\u001b[39m, data\u001b[38;5;241m=\u001b[39m\u001b[38;5;28;01mNone\u001b[39;00m):\n\u001b[1;32m-> 2483\u001b[0m     \u001b[38;5;28;01mreturn\u001b[39;00m gca()\u001b[38;5;241m.\u001b[39mboxplot(\n\u001b[0;32m   2484\u001b[0m         x, notch\u001b[38;5;241m=\u001b[39mnotch, sym\u001b[38;5;241m=\u001b[39msym, vert\u001b[38;5;241m=\u001b[39mvert, whis\u001b[38;5;241m=\u001b[39mwhis,\n\u001b[0;32m   2485\u001b[0m         positions\u001b[38;5;241m=\u001b[39mpositions, widths\u001b[38;5;241m=\u001b[39mwidths, patch_artist\u001b[38;5;241m=\u001b[39mpatch_artist,\n\u001b[0;32m   2486\u001b[0m         bootstrap\u001b[38;5;241m=\u001b[39mbootstrap, usermedians\u001b[38;5;241m=\u001b[39musermedians,\n\u001b[0;32m   2487\u001b[0m         conf_intervals\u001b[38;5;241m=\u001b[39mconf_intervals, meanline\u001b[38;5;241m=\u001b[39mmeanline,\n\u001b[0;32m   2488\u001b[0m         showmeans\u001b[38;5;241m=\u001b[39mshowmeans, showcaps\u001b[38;5;241m=\u001b[39mshowcaps, showbox\u001b[38;5;241m=\u001b[39mshowbox,\n\u001b[0;32m   2489\u001b[0m         showfliers\u001b[38;5;241m=\u001b[39mshowfliers, boxprops\u001b[38;5;241m=\u001b[39mboxprops, labels\u001b[38;5;241m=\u001b[39mlabels,\n\u001b[0;32m   2490\u001b[0m         flierprops\u001b[38;5;241m=\u001b[39mflierprops, medianprops\u001b[38;5;241m=\u001b[39mmedianprops,\n\u001b[0;32m   2491\u001b[0m         meanprops\u001b[38;5;241m=\u001b[39mmeanprops, capprops\u001b[38;5;241m=\u001b[39mcapprops,\n\u001b[0;32m   2492\u001b[0m         whiskerprops\u001b[38;5;241m=\u001b[39mwhiskerprops, manage_ticks\u001b[38;5;241m=\u001b[39mmanage_ticks,\n\u001b[0;32m   2493\u001b[0m         autorange\u001b[38;5;241m=\u001b[39mautorange, zorder\u001b[38;5;241m=\u001b[39mzorder, capwidths\u001b[38;5;241m=\u001b[39mcapwidths,\n\u001b[0;32m   2494\u001b[0m         \u001b[38;5;241m*\u001b[39m\u001b[38;5;241m*\u001b[39m({\u001b[38;5;124m\"\u001b[39m\u001b[38;5;124mdata\u001b[39m\u001b[38;5;124m\"\u001b[39m: data} \u001b[38;5;28;01mif\u001b[39;00m data \u001b[38;5;129;01mis\u001b[39;00m \u001b[38;5;129;01mnot\u001b[39;00m \u001b[38;5;28;01mNone\u001b[39;00m \u001b[38;5;28;01melse\u001b[39;00m {}))\n",
      "File \u001b[1;32m~\\Miniconda3\\lib\\site-packages\\matplotlib\\__init__.py:1442\u001b[0m, in \u001b[0;36m_preprocess_data.<locals>.inner\u001b[1;34m(ax, data, *args, **kwargs)\u001b[0m\n\u001b[0;32m   1439\u001b[0m \u001b[38;5;129m@functools\u001b[39m\u001b[38;5;241m.\u001b[39mwraps(func)\n\u001b[0;32m   1440\u001b[0m \u001b[38;5;28;01mdef\u001b[39;00m \u001b[38;5;21minner\u001b[39m(ax, \u001b[38;5;241m*\u001b[39margs, data\u001b[38;5;241m=\u001b[39m\u001b[38;5;28;01mNone\u001b[39;00m, \u001b[38;5;241m*\u001b[39m\u001b[38;5;241m*\u001b[39mkwargs):\n\u001b[0;32m   1441\u001b[0m     \u001b[38;5;28;01mif\u001b[39;00m data \u001b[38;5;129;01mis\u001b[39;00m \u001b[38;5;28;01mNone\u001b[39;00m:\n\u001b[1;32m-> 1442\u001b[0m         \u001b[38;5;28;01mreturn\u001b[39;00m func(ax, \u001b[38;5;241m*\u001b[39m\u001b[38;5;28mmap\u001b[39m(sanitize_sequence, args), \u001b[38;5;241m*\u001b[39m\u001b[38;5;241m*\u001b[39mkwargs)\n\u001b[0;32m   1444\u001b[0m     bound \u001b[38;5;241m=\u001b[39m new_sig\u001b[38;5;241m.\u001b[39mbind(ax, \u001b[38;5;241m*\u001b[39margs, \u001b[38;5;241m*\u001b[39m\u001b[38;5;241m*\u001b[39mkwargs)\n\u001b[0;32m   1445\u001b[0m     auto_label \u001b[38;5;241m=\u001b[39m (bound\u001b[38;5;241m.\u001b[39marguments\u001b[38;5;241m.\u001b[39mget(label_namer)\n\u001b[0;32m   1446\u001b[0m                   \u001b[38;5;129;01mor\u001b[39;00m bound\u001b[38;5;241m.\u001b[39mkwargs\u001b[38;5;241m.\u001b[39mget(label_namer))\n",
      "File \u001b[1;32m~\\Miniconda3\\lib\\site-packages\\matplotlib\\axes\\_axes.py:3914\u001b[0m, in \u001b[0;36mAxes.boxplot\u001b[1;34m(self, x, notch, sym, vert, whis, positions, widths, patch_artist, bootstrap, usermedians, conf_intervals, meanline, showmeans, showcaps, showbox, showfliers, boxprops, labels, flierprops, medianprops, meanprops, capprops, whiskerprops, manage_ticks, autorange, zorder, capwidths)\u001b[0m\n\u001b[0;32m   3911\u001b[0m \u001b[38;5;28;01mif\u001b[39;00m bootstrap \u001b[38;5;129;01mis\u001b[39;00m \u001b[38;5;28;01mNone\u001b[39;00m:\n\u001b[0;32m   3912\u001b[0m     bootstrap \u001b[38;5;241m=\u001b[39m mpl\u001b[38;5;241m.\u001b[39mrcParams[\u001b[38;5;124m'\u001b[39m\u001b[38;5;124mboxplot.bootstrap\u001b[39m\u001b[38;5;124m'\u001b[39m]\n\u001b[1;32m-> 3914\u001b[0m bxpstats \u001b[38;5;241m=\u001b[39m \u001b[43mcbook\u001b[49m\u001b[38;5;241;43m.\u001b[39;49m\u001b[43mboxplot_stats\u001b[49m\u001b[43m(\u001b[49m\u001b[43mx\u001b[49m\u001b[43m,\u001b[49m\u001b[43m \u001b[49m\u001b[43mwhis\u001b[49m\u001b[38;5;241;43m=\u001b[39;49m\u001b[43mwhis\u001b[49m\u001b[43m,\u001b[49m\u001b[43m \u001b[49m\u001b[43mbootstrap\u001b[49m\u001b[38;5;241;43m=\u001b[39;49m\u001b[43mbootstrap\u001b[49m\u001b[43m,\u001b[49m\n\u001b[0;32m   3915\u001b[0m \u001b[43m                               \u001b[49m\u001b[43mlabels\u001b[49m\u001b[38;5;241;43m=\u001b[39;49m\u001b[43mlabels\u001b[49m\u001b[43m,\u001b[49m\u001b[43m \u001b[49m\u001b[43mautorange\u001b[49m\u001b[38;5;241;43m=\u001b[39;49m\u001b[43mautorange\u001b[49m\u001b[43m)\u001b[49m\n\u001b[0;32m   3916\u001b[0m \u001b[38;5;28;01mif\u001b[39;00m notch \u001b[38;5;129;01mis\u001b[39;00m \u001b[38;5;28;01mNone\u001b[39;00m:\n\u001b[0;32m   3917\u001b[0m     notch \u001b[38;5;241m=\u001b[39m mpl\u001b[38;5;241m.\u001b[39mrcParams[\u001b[38;5;124m'\u001b[39m\u001b[38;5;124mboxplot.notch\u001b[39m\u001b[38;5;124m'\u001b[39m]\n",
      "File \u001b[1;32m~\\Miniconda3\\lib\\site-packages\\matplotlib\\cbook\\__init__.py:1232\u001b[0m, in \u001b[0;36mboxplot_stats\u001b[1;34m(X, whis, bootstrap, labels, autorange)\u001b[0m\n\u001b[0;32m   1229\u001b[0m x \u001b[38;5;241m=\u001b[39m np\u001b[38;5;241m.\u001b[39masarray(x)\n\u001b[0;32m   1231\u001b[0m \u001b[38;5;66;03m# arithmetic mean\u001b[39;00m\n\u001b[1;32m-> 1232\u001b[0m stats[\u001b[38;5;124m'\u001b[39m\u001b[38;5;124mmean\u001b[39m\u001b[38;5;124m'\u001b[39m] \u001b[38;5;241m=\u001b[39m \u001b[43mnp\u001b[49m\u001b[38;5;241;43m.\u001b[39;49m\u001b[43mmean\u001b[49m\u001b[43m(\u001b[49m\u001b[43mx\u001b[49m\u001b[43m)\u001b[49m\n\u001b[0;32m   1234\u001b[0m \u001b[38;5;66;03m# medians and quartiles\u001b[39;00m\n\u001b[0;32m   1235\u001b[0m q1, med, q3 \u001b[38;5;241m=\u001b[39m np\u001b[38;5;241m.\u001b[39mpercentile(x, [\u001b[38;5;241m25\u001b[39m, \u001b[38;5;241m50\u001b[39m, \u001b[38;5;241m75\u001b[39m])\n",
      "File \u001b[1;32m<__array_function__ internals>:200\u001b[0m, in \u001b[0;36mmean\u001b[1;34m(*args, **kwargs)\u001b[0m\n",
      "File \u001b[1;32m~\\Miniconda3\\lib\\site-packages\\numpy\\core\\fromnumeric.py:3464\u001b[0m, in \u001b[0;36mmean\u001b[1;34m(a, axis, dtype, out, keepdims, where)\u001b[0m\n\u001b[0;32m   3461\u001b[0m     \u001b[38;5;28;01melse\u001b[39;00m:\n\u001b[0;32m   3462\u001b[0m         \u001b[38;5;28;01mreturn\u001b[39;00m mean(axis\u001b[38;5;241m=\u001b[39maxis, dtype\u001b[38;5;241m=\u001b[39mdtype, out\u001b[38;5;241m=\u001b[39mout, \u001b[38;5;241m*\u001b[39m\u001b[38;5;241m*\u001b[39mkwargs)\n\u001b[1;32m-> 3464\u001b[0m \u001b[38;5;28;01mreturn\u001b[39;00m _methods\u001b[38;5;241m.\u001b[39m_mean(a, axis\u001b[38;5;241m=\u001b[39maxis, dtype\u001b[38;5;241m=\u001b[39mdtype,\n\u001b[0;32m   3465\u001b[0m                       out\u001b[38;5;241m=\u001b[39mout, \u001b[38;5;241m*\u001b[39m\u001b[38;5;241m*\u001b[39mkwargs)\n",
      "File \u001b[1;32m~\\Miniconda3\\lib\\site-packages\\numpy\\core\\_methods.py:181\u001b[0m, in \u001b[0;36m_mean\u001b[1;34m(a, axis, dtype, out, keepdims, where)\u001b[0m\n\u001b[0;32m    178\u001b[0m         dtype \u001b[38;5;241m=\u001b[39m mu\u001b[38;5;241m.\u001b[39mdtype(\u001b[38;5;124m'\u001b[39m\u001b[38;5;124mf4\u001b[39m\u001b[38;5;124m'\u001b[39m)\n\u001b[0;32m    179\u001b[0m         is_float16_result \u001b[38;5;241m=\u001b[39m \u001b[38;5;28;01mTrue\u001b[39;00m\n\u001b[1;32m--> 181\u001b[0m ret \u001b[38;5;241m=\u001b[39m \u001b[43mumr_sum\u001b[49m\u001b[43m(\u001b[49m\u001b[43marr\u001b[49m\u001b[43m,\u001b[49m\u001b[43m \u001b[49m\u001b[43maxis\u001b[49m\u001b[43m,\u001b[49m\u001b[43m \u001b[49m\u001b[43mdtype\u001b[49m\u001b[43m,\u001b[49m\u001b[43m \u001b[49m\u001b[43mout\u001b[49m\u001b[43m,\u001b[49m\u001b[43m \u001b[49m\u001b[43mkeepdims\u001b[49m\u001b[43m,\u001b[49m\u001b[43m \u001b[49m\u001b[43mwhere\u001b[49m\u001b[38;5;241;43m=\u001b[39;49m\u001b[43mwhere\u001b[49m\u001b[43m)\u001b[49m\n\u001b[0;32m    182\u001b[0m \u001b[38;5;28;01mif\u001b[39;00m \u001b[38;5;28misinstance\u001b[39m(ret, mu\u001b[38;5;241m.\u001b[39mndarray):\n\u001b[0;32m    183\u001b[0m     \u001b[38;5;28;01mwith\u001b[39;00m _no_nep50_warning():\n",
      "\u001b[1;31mTypeError\u001b[0m: unsupported operand type(s) for +: 'NoneType' and 'NoneType'"
     ]
    },
    {
     "data": {
      "image/png": "[encoded data removed]",
      "text/plain": [
       "<Figure size 640x480 with 1 Axes>"
      ]
     },
     "metadata": {},
     "output_type": "display_data"
    }
   ],
   "source": [
    "plt.boxplot((total_pellets_NR_suc, total_pellets_NR_cas5, total_pellets_PR_suc, total_pellets_PR_cas5));"
   ]
  },
  {
   "cell_type": "code",
   "execution_count": null,
   "id": "95b425ca",
   "metadata": {},
   "outputs": [],
   "source": [
    "def get_total_pellets(df):\n",
    "    \n",
    "    pellets = df.query(\"Event == 'Pellet'\")\n",
    "    \n",
    "    return len(pellets)\n",
    "    \n",
    "    \n",
    "    "
   ]
  },
  {
   "cell_type": "code",
   "execution_count": null,
   "id": "988fbdb2",
   "metadata": {},
   "outputs": [],
   "source": [
    "### Need to pick a comparison, e.g. FR_ONE\n",
    "\n",
    "cas5, cas20 = [], []\n",
    "\n",
    "for key, val in ff_dict.items():\n",
    "    if \"FR_ONE\" in key:\n",
    "        if val[\"FED_PELLET\"] == \"CAS5\":\n",
    "            cas5.append(get_total_pellets(val[\"events\"]))\n",
    "        elif val[\"FED_PELLET\"] == \"CAS20\":\n",
    "            cas20.append(get_total_pellets(val[\"events\"]))\n",
    "        else:\n",
    "            print(\"check {}\".format(key))\n",
    "            \n",
    "assert len(cas5) == len(cas20)\n",
    "\n",
    "tp.barscatter([cas5, cas20], paired=True);"
   ]
  },
  {
   "cell_type": "code",
   "execution_count": null,
   "id": "07570201",
   "metadata": {},
   "outputs": [],
   "source": [
    "### assemble dataframe for session 1 - FR cas5 vs cas20\n",
    "\n",
    "SESSION = \"ONE\"\n",
    "CHOICE1 = \"CAS5\"\n",
    "CHOICE2 = \"CAS20\"\n",
    "\n",
    "dfs = []\n",
    "for mouse in mice:\n",
    "    for key, val in ff_dict.items():\n",
    "        if (mouse in key) and (\"ONE\" in key):\n",
    "            diet = val[\"DIET\"]\n",
    "            sex = val[\"SEX\"]\n",
    "            choice = val[\"FED_PELLET\"]\n",
    "            total_pellets = get_total_pellets(val[\"events\"])\n",
    "            \n",
    "            df_temp = pd.DataFrame(data={\"mouse\": mouse,\n",
    "                                         \"diet\": diet,\n",
    "                                         \"sex\": sex,\n",
    "                                         \"fed_pellet\": choice,\n",
    "                                         \"total_pellets\": total_pellets\n",
    "                                         }, index=[key])\n",
    "            \n",
    "            dfs = dfs.append(df_temp)\n",
    "            \n",
    "df = pd.concat(dfs)"
   ]
  },
  {
   "cell_type": "code",
   "execution_count": null,
   "id": "e0d05b7c",
   "metadata": {},
   "outputs": [],
   "source": [
    "df_temp"
   ]
  },
  {
   "cell_type": "code",
   "execution_count": null,
   "id": "55ef91c9",
   "metadata": {},
   "outputs": [],
   "source": [
    "pd.DataFrame(data=mice, columns=[\"mouseid\"])"
   ]
  },
  {
   "cell_type": "code",
   "execution_count": null,
   "id": "fd5ac72c",
   "metadata": {},
   "outputs": [],
   "source": []
  },
  {
   "cell_type": "code",
   "execution_count": null,
   "id": "adaf8d96-85d3-4ed4-84a8-1c797828ae58",
   "metadata": {
    "tags": []
   },
   "outputs": [],
   "source": [
    "CHOICE1=ff_dict[\"FEDXDF1_PR_CAS20_FR_ONE\"][\"events\"].head(20)\n",
    "CHOICE2=ff_dict[\"FEDXDF1_PR_CAS5_FR_ONE\"][\"events\"].head(20)"
   ]
  },
  {
   "cell_type": "code",
   "execution_count": null,
   "id": "928acef5-b838-48f2-b561-b2a2d3140c4c",
   "metadata": {},
   "outputs": [],
   "source": [
    "print(CHOICE2)"
   ]
  },
  {
   "cell_type": "code",
   "execution_count": null,
   "id": "eb90f88e-bc08-4a22-ac70-bbfb9dd4e598",
   "metadata": {},
   "outputs": [],
   "source": [
    "mice=[]\n",
    "for key in ff_dict.keys():\n",
    "    \n",
    "    mouse= key.split(\"_\")[0]\n",
    "    if mouse not in mice:\n",
    "        mice.append(mouse)"
   ]
  },
  {
   "cell_type": "code",
   "execution_count": null,
   "id": "8e9af59e-700f-4742-a60c-83848b2bc62f",
   "metadata": {
    "jupyter": {
     "outputs_hidden": true
    },
    "tags": []
   },
   "outputs": [],
   "source": [
    "mice"
   ]
  },
  {
   "cell_type": "code",
   "execution_count": null,
   "id": "827c93c9-f0cf-4c06-af86-c10682bd187c",
   "metadata": {},
   "outputs": [],
   "source": [
    "ff_dict_all_epochs={}\n",
    "for mouse in mice:\n",
    "    ff_dict_all_epochs[mouse]={}\n",
    "    temp=[]\n",
    "    for key, val in ff_dict.items():\n",
    "        if mouse in key:\n",
    "            temp.append(val[\"pellets\"])\n",
    "            ff_dict_all_epochs [mouse][\"CHOICE_SESSION\"]= val[\"CHOICE_SESSION\"]\n",
    "            \n",
    "    ff_dict_all_epochs[mouse][\"pellets\"]=pd.concat(temp)       "
   ]
  },
  {
   "cell_type": "code",
   "execution_count": null,
   "id": "c760237e-7078-4c30-870b-6efc3d290f49",
   "metadata": {},
   "outputs": [],
   "source": []
  },
  {
   "cell_type": "code",
   "execution_count": null,
   "id": "cc870998-9fe0-4750-893f-c05da4485eea",
   "metadata": {},
   "outputs": [],
   "source": []
  }
 ],
 "metadata": {
  "kernelspec": {
   "display_name": "Python 3 (ipykernel)",
   "language": "python",
   "name": "python3"
  },
  "language_info": {
   "codemirror_mode": {
    "name": "ipython",
    "version": 3
   },
   "file_extension": ".py",
   "mimetype": "text/x-python",
   "name": "python",
   "nbconvert_exporter": "python",
   "pygments_lexer": "ipython3",
   "version": "3.9.16"
  }
 },
 "nbformat": 4,
 "nbformat_minor": 5
}
