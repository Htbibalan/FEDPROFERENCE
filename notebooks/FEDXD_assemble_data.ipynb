{
 "cells": [
  {
   "cell_type": "code",
   "execution_count": 1,
   "id": "d18d8fa6-0c08-483b-a67e-bd2c9ca9fae8",
   "metadata": {},
   "outputs": [],
   "source": [
    "import os\n",
    "import numpy as np\n",
    "import pandas as pd\n",
    "\n",
    "import trompy as tp\n",
    "\n",
    "# the next two lines will expand the printed tables\n",
    "# pd.options.display.max_rows= 40000\n",
    "# pd.options.display.max_columns= 40000"
   ]
  },
  {
   "cell_type": "code",
   "execution_count": 2,
   "id": "0a9e1728-ce65-4bcc-8a6d-0f128391ed73",
   "metadata": {},
   "outputs": [],
   "source": [
    "DATA_FOLDER = \"..\\\\data\"\n",
    "\n",
    "def tweak_fed(df):\n",
    "    return (df\n",
    "             .rename(columns={\"MM:DD:YYYY hh:mm:ss\": \"t\",\n",
    "                             \"InterPelletInterval\": \"ipi\"})\n",
    "             .assign(t=lambda df_: pd.to_datetime(df_.t))\n",
    "             .loc[:, [\"t\", \"Event\", \"FR\", \"Device_Number\", \"ipi\", \"Poke_Time\"]]\n",
    "           )\n",
    "\n",
    "df = pd.read_csv(os.path.join(DATA_FOLDER, \"FED001_041723_00.CSV\"))\n",
    "df1 = tweak_fed(df)\n",
    "\n",
    "df = pd.read_csv(os.path.join(DATA_FOLDER, \"FED002_041723_00.CSV\"))\n",
    "df2 = tweak_fed(df)"
   ]
  },
  {
   "cell_type": "code",
   "execution_count": 3,
   "id": "2eb58c48",
   "metadata": {},
   "outputs": [
    {
     "name": "stdout",
     "output_type": "stream",
     "text": [
      "                    t   Event  FR  Device_Number  ipi  Poke_Time\n",
      "0 2023-04-17 11:18:10   Right   1              1  NaN      12.78\n",
      "1 2023-04-17 11:19:11    Left   1              1  NaN       0.25\n",
      "2 2023-04-17 11:21:57  Pellet   1              1  NaN        NaN\n",
      "                    t  Event  FR  Device_Number  ipi  Poke_Time\n",
      "0 2023-04-17 11:18:20  Right   1              2  NaN      12.59\n",
      "1 2023-04-17 11:25:38  Right   1              2  NaN       0.00\n",
      "2 2023-04-17 11:26:38   Left   1              2  NaN       0.25\n"
     ]
    }
   ],
   "source": [
    "print(df1.head(3))\n",
    "print(df2.head(3))"
   ]
  },
  {
   "cell_type": "code",
   "execution_count": 4,
   "id": "8aa350c0",
   "metadata": {},
   "outputs": [],
   "source": [
    "def sync_feds(df1, df2):\n",
    "    \n",
    "    offset = df2.query(\"Poke_Time > 10\").t - df1.query(\"Poke_Time > 10\").t\n",
    "    offset = pd.Timedelta(offset.iloc[0])\n",
    "    \n",
    "    \n",
    "    df2 = df2.assign(t=df2.t.sub(offset))\n",
    "    \n",
    "    return df1, df2, offset"
   ]
  },
  {
   "cell_type": "code",
   "execution_count": null,
   "id": "041b3af2",
   "metadata": {},
   "outputs": [
    {
     "name": "stdout",
     "output_type": "stream",
     "text": [
      "File is excel file. Making csv metafile first\n"
     ]
    }
   ],
   "source": [
    "METAFILE = \"..\\\\FEDXD_METAFILE.xls\"\n",
    "rows, header = tp.metafilereader(METAFILE, sheetname=\"METAFILE_SE\")\n",
    "\n",
    "def prep4tidy(row):\n",
    "    mouseid, sex, batch, fedfile, choice_session, fed_pellet, mode, diet = row\n",
    "    \n",
    "    df = tweak_fed(pd.read_csv(os.path.join(DATA_FOLDER, fedfile)))\n",
    "    \n",
    "    return (df\n",
    "            .assign(mouseid = mouseid,\n",
    "                    diet = diet,\n",
    "                    sex = sex,\n",
    "                    mode = mode,\n",
    "                    choice_session = choice_session,\n",
    "                    batch = int(batch),\n",
    "                    fed_pellet = fed_pellet\n",
    "                    )\n",
    "           )\n",
    "\n",
    "list_of_dfs = []\n",
    "for row in rows:\n",
    "    list_of_dfs.append(prep4tidy(row))\n",
    "    \n",
    "feddata = pd.concat(list_of_dfs)"
   ]
  },
  {
   "cell_type": "code",
   "execution_count": null,
   "id": "c09b366f",
   "metadata": {},
   "outputs": [],
   "source": [
    "mice = feddata.mouseid.unique()\n",
    "\n",
    "offsets, failed_keys, synced_dfs = [], [], []\n",
    "\n",
    "for mouse in mice:\n",
    "    for session in [\"ONE\", \"TWO\", \"THREE\", \"FOUR\"]:\n",
    "        temp_df = feddata.query(\"mouseid == @mouse & choice_session == @session\")\n",
    "\n",
    "        devices = temp_df.Device_Number.unique()\n",
    "\n",
    "        try:\n",
    "            fed1 = temp_df.query(\"Device_Number == @devices[0]\")\n",
    "            fed2 = temp_df.query(\"Device_Number == @devices[1]\")\n",
    "\n",
    "            df1, df2, offset = sync_feds(fed1, fed2)\n",
    "            synced_dfs.append(df1)\n",
    "            synced_dfs.append(df2)\n",
    "            offsets.append(offset.total_seconds())\n",
    "        except IndexError:\n",
    "            print(f\"Cannot sync for {mouse} in choice session {session}\")\n",
    "            failed_keys.append((mouse, session))\n",
    "\n",
    "feddata_synced = pd.concat(synced_dfs)\n",
    "\n",
    "offsets = [0 if np.isnan(i) else i for i in offsets]\n",
    "print(failed_keys)\n",
    "print(offsets)"
   ]
  },
  {
   "cell_type": "code",
   "execution_count": null,
   "id": "538eb5d6",
   "metadata": {},
   "outputs": [],
   "source": [
    "# shows that FEDs are normally only out of sync by 40 seconds or less\n",
    "# need to inspect nans to work out what is happening there\n",
    "import seaborn as sns\n",
    "sns.kdeplot(offsets)"
   ]
  },
  {
   "cell_type": "code",
   "execution_count": null,
   "id": "00911c69",
   "metadata": {},
   "outputs": [],
   "source": [
    "# saves dataframe as feather file\n",
    "feddata_synced.reset_index().to_feather(\"..\\\\processeddata\\\\feddata_synced.feather\")  "
   ]
  },
  {
   "cell_type": "code",
   "execution_count": null,
   "id": "cc870998-9fe0-4750-893f-c05da4485eea",
   "metadata": {},
   "outputs": [],
   "source": []
  }
 ],
 "metadata": {
  "kernelspec": {
   "display_name": "Python 3 (ipykernel)",
   "language": "python",
   "name": "python3"
  },
  "language_info": {
   "codemirror_mode": {
    "name": "ipython",
    "version": 3
   },
   "file_extension": ".py",
   "mimetype": "text/x-python",
   "name": "python",
   "nbconvert_exporter": "python",
   "pygments_lexer": "ipython3",
   "version": "3.9.16"
  }
 },
 "nbformat": 4,
 "nbformat_minor": 5
}
